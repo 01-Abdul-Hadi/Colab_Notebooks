{
  "nbformat": 4,
  "nbformat_minor": 0,
  "metadata": {
    "colab": {
      "provenance": []
    },
    "kernelspec": {
      "name": "python3",
      "display_name": "Python 3"
    },
    "language_info": {
      "name": "python"
    }
  },
  "cells": [
    {
      "cell_type": "code",
      "execution_count": null,
      "metadata": {
        "id": "lnoABQkN4odp"
      },
      "outputs": [],
      "source": [
        "from sklearn.datasets import fetch_california_housing\n",
        "from sklearn.model_selection import train_test_split\n",
        "from sklearn.preprocessing import StandardScaler\n",
        "\n",
        "import tensorflow as tf\n",
        "from tensorflow import keras\n",
        "\n",
        "housing = fetch_california_housing()\n",
        "\n",
        "X_train_full,X_test,y_train_full, y_test = train_test_split(housing.data,housing.target)\n",
        "X_train,X_valid,y_train,y_valid = train_test_split(X_train_full,y_train_full)\n"
      ]
    },
    {
      "cell_type": "code",
      "source": [
        "scaler = StandardScaler()\n",
        "X_train = scaler.fit_transform(X_train)\n",
        "X_valid = scaler.transform(X_valid)\n",
        "X_test = scaler.transform(X_test)"
      ],
      "metadata": {
        "id": "PDh1RO856r1i"
      },
      "execution_count": null,
      "outputs": []
    },
    {
      "cell_type": "code",
      "source": [
        "model=keras.models.Sequential([keras.layers.Dense(30,activation=\"relu\",input_shape=X_train.shape[1:]),keras.layers.Dense(1)])"
      ],
      "metadata": {
        "id": "5oPtMRMk7o9R"
      },
      "execution_count": null,
      "outputs": []
    },
    {
      "cell_type": "code",
      "source": [
        "model.compile(loss=\"mean_squared_error\", optimizer=\"sgd\")\n",
        "history=model.fit(X_train,y_train,epochs=20,validation_data=(X_valid,y_valid))"
      ],
      "metadata": {
        "colab": {
          "base_uri": "https://localhost:8080/"
        },
        "id": "iVw8BProAiu9",
        "outputId": "d6cb3c5c-98cb-4706-fe6b-89124f201ad0"
      },
      "execution_count": null,
      "outputs": [
        {
          "output_type": "stream",
          "name": "stdout",
          "text": [
            "Epoch 1/20\n",
            "363/363 [==============================] - 5s 10ms/step - loss: 0.8348 - val_loss: 0.6194\n",
            "Epoch 2/20\n",
            "363/363 [==============================] - 3s 9ms/step - loss: 0.6292 - val_loss: 0.5451\n",
            "Epoch 3/20\n",
            "363/363 [==============================] - 4s 10ms/step - loss: 0.6145 - val_loss: 0.5164\n",
            "Epoch 4/20\n",
            "363/363 [==============================] - 2s 4ms/step - loss: 0.4905 - val_loss: 0.5106\n",
            "Epoch 5/20\n",
            "363/363 [==============================] - 1s 4ms/step - loss: 0.4546 - val_loss: 0.4882\n",
            "Epoch 6/20\n",
            "363/363 [==============================] - 2s 5ms/step - loss: 0.4442 - val_loss: 0.4774\n",
            "Epoch 7/20\n",
            "363/363 [==============================] - 1s 4ms/step - loss: 0.4352 - val_loss: 0.4702\n",
            "Epoch 8/20\n",
            "363/363 [==============================] - 1s 2ms/step - loss: 0.4302 - val_loss: 0.4629\n",
            "Epoch 9/20\n",
            "363/363 [==============================] - 1s 2ms/step - loss: 0.4246 - val_loss: 0.4553\n",
            "Epoch 10/20\n",
            "363/363 [==============================] - 1s 2ms/step - loss: 0.4204 - val_loss: 0.4530\n",
            "Epoch 11/20\n",
            "363/363 [==============================] - 1s 2ms/step - loss: 0.4157 - val_loss: 0.4529\n",
            "Epoch 12/20\n",
            "363/363 [==============================] - 1s 2ms/step - loss: 0.4096 - val_loss: 0.4439\n",
            "Epoch 13/20\n",
            "363/363 [==============================] - 1s 3ms/step - loss: 0.4063 - val_loss: 0.4607\n",
            "Epoch 14/20\n",
            "363/363 [==============================] - 1s 3ms/step - loss: 0.4015 - val_loss: 0.4322\n",
            "Epoch 15/20\n",
            "363/363 [==============================] - 1s 2ms/step - loss: 0.3984 - val_loss: 0.4295\n",
            "Epoch 16/20\n",
            "363/363 [==============================] - 1s 2ms/step - loss: 0.3942 - val_loss: 0.4263\n",
            "Epoch 17/20\n",
            "363/363 [==============================] - 1s 2ms/step - loss: 0.3919 - val_loss: 0.4234\n",
            "Epoch 18/20\n",
            "363/363 [==============================] - 1s 2ms/step - loss: 0.3876 - val_loss: 0.4168\n",
            "Epoch 19/20\n",
            "363/363 [==============================] - 1s 2ms/step - loss: 0.3851 - val_loss: 0.4186\n",
            "Epoch 20/20\n",
            "363/363 [==============================] - 1s 2ms/step - loss: 0.3843 - val_loss: 0.4196\n"
          ]
        }
      ]
    },
    {
      "cell_type": "code",
      "source": [
        "history=model.fit(X_train,y_train,epochs=20,validation_data=(X_valid,y_valid))\n",
        "\n",
        "X_new=X_test[:3]\n",
        "y_pred=model.predict(X_new)\n",
        "\n",
        "y_pred\n"
      ],
      "metadata": {
        "colab": {
          "base_uri": "https://localhost:8080/"
        },
        "id": "mwSvLXEVAv8i",
        "outputId": "3dc0feb7-4206-4743-94aa-aca25db72b76"
      },
      "execution_count": null,
      "outputs": [
        {
          "output_type": "stream",
          "name": "stdout",
          "text": [
            "Epoch 1/20\n",
            "363/363 [==============================] - 1s 2ms/step - loss: 0.3806 - val_loss: 0.4130\n",
            "Epoch 2/20\n",
            "363/363 [==============================] - 1s 2ms/step - loss: 0.3794 - val_loss: 0.4104\n",
            "Epoch 3/20\n",
            "363/363 [==============================] - 1s 2ms/step - loss: 0.3766 - val_loss: 0.4072\n",
            "Epoch 4/20\n",
            "363/363 [==============================] - 1s 2ms/step - loss: 0.3742 - val_loss: 0.4243\n",
            "Epoch 5/20\n",
            "363/363 [==============================] - 1s 3ms/step - loss: 0.3718 - val_loss: 0.4016\n",
            "Epoch 6/20\n",
            "363/363 [==============================] - 1s 3ms/step - loss: 0.3724 - val_loss: 0.4001\n",
            "Epoch 7/20\n",
            "363/363 [==============================] - 1s 3ms/step - loss: 0.3685 - val_loss: 0.3980\n",
            "Epoch 8/20\n",
            "363/363 [==============================] - 1s 2ms/step - loss: 0.3661 - val_loss: 0.4017\n",
            "Epoch 9/20\n",
            "363/363 [==============================] - 1s 2ms/step - loss: 0.3663 - val_loss: 0.4023\n",
            "Epoch 10/20\n",
            "363/363 [==============================] - 1s 2ms/step - loss: 0.3635 - val_loss: 0.4100\n",
            "Epoch 11/20\n",
            "363/363 [==============================] - 1s 2ms/step - loss: 0.3621 - val_loss: 0.8080\n",
            "Epoch 12/20\n",
            "363/363 [==============================] - 1s 2ms/step - loss: 0.3657 - val_loss: 0.3986\n",
            "Epoch 13/20\n",
            "363/363 [==============================] - 1s 2ms/step - loss: 0.3607 - val_loss: 0.3976\n",
            "Epoch 14/20\n",
            "363/363 [==============================] - 1s 2ms/step - loss: 0.3607 - val_loss: 0.3963\n",
            "Epoch 15/20\n",
            "363/363 [==============================] - 1s 2ms/step - loss: 0.3586 - val_loss: 0.3987\n",
            "Epoch 16/20\n",
            "363/363 [==============================] - 1s 2ms/step - loss: 0.3563 - val_loss: 0.3885\n",
            "Epoch 17/20\n",
            "363/363 [==============================] - 1s 2ms/step - loss: 0.3536 - val_loss: 0.3861\n",
            "Epoch 18/20\n",
            "363/363 [==============================] - 1s 2ms/step - loss: 0.3546 - val_loss: 0.4459\n",
            "Epoch 19/20\n",
            "363/363 [==============================] - 1s 2ms/step - loss: 0.3590 - val_loss: 0.4318\n",
            "Epoch 20/20\n",
            "363/363 [==============================] - 1s 2ms/step - loss: 0.3509 - val_loss: 0.3869\n",
            "1/1 [==============================] - 0s 90ms/step\n"
          ]
        },
        {
          "output_type": "execute_result",
          "data": {
            "text/plain": [
              "array([[3.1327925],\n",
              "       [3.7191892],\n",
              "       [2.1267252]], dtype=float32)"
            ]
          },
          "metadata": {},
          "execution_count": 5
        }
      ]
    },
    {
      "cell_type": "code",
      "source": [
        "model.save(\"my_keras_model.h5\")\n",
        "\n",
        "!strings my_keras_model.h5"
      ],
      "metadata": {
        "colab": {
          "base_uri": "https://localhost:8080/"
        },
        "id": "qHEWiLNNBL_x",
        "outputId": "56941db8-21a4-4e94-bea8-3d4283000c87"
      },
      "execution_count": null,
      "outputs": [
        {
          "output_type": "stream",
          "name": "stdout",
          "text": [
            "TREE\n",
            "HEAP\n",
            "model_weights\n",
            "optimizer_weights\n",
            "keras_version\n",
            "backend\n",
            "model_config\n",
            "training_config\n",
            "TREE\n",
            "HEAP\n",
            "dense\n",
            "dense_1\n",
            "top_level_model_weights\n",
            "layer_names\n",
            "backend\n",
            "GCOL\n",
            "2.12.0\n",
            "tensorflow\n",
            "{\"class_name\": \"Sequential\", \"config\": {\"name\": \"sequential\", \"layers\": [{\"class_name\": \"InputLayer\", \"config\": {\"batch_input_shape\": [null, 8], \"dtype\": \"float32\", \"sparse\": false, \"ragged\": false, \"name\": \"dense_input\"}}, {\"class_name\": \"Dense\", \"config\": {\"name\": \"dense\", \"trainable\": true, \"dtype\": \"float32\", \"batch_input_shape\": [null, 8], \"units\": 30, \"activation\": \"relu\", \"use_bias\": true, \"kernel_initializer\": {\"class_name\": \"GlorotUniform\", \"config\": {\"seed\": null}}, \"bias_initializer\": {\"class_name\": \"Zeros\", \"config\": {}}, \"kernel_regularizer\": null, \"bias_regularizer\": null, \"activity_regularizer\": null, \"kernel_constraint\": null, \"bias_constraint\": null}}, {\"class_name\": \"Dense\", \"config\": {\"name\": \"dense_1\", \"trainable\": true, \"dtype\": \"float32\", \"units\": 1, \"activation\": \"linear\", \"use_bias\": true, \"kernel_initializer\": {\"class_name\": \"GlorotUniform\", \"config\": {\"seed\": null}}, \"bias_initializer\": {\"class_name\": \"Zeros\", \"config\": {}}, \"kernel_regularizer\": null, \"bias_regularizer\": null, \"activity_regularizer\": null, \"kernel_constraint\": null, \"bias_constraint\": null}}]}}\n",
            "{\"loss\": \"mean_squared_error\", \"metrics\": null, \"weighted_metrics\": null, \"loss_weights\": null, \"optimizer_config\": {\"class_name\": \"Custom>SGD\", \"config\": {\"name\": \"SGD\", \"weight_decay\": null, \"clipnorm\": null, \"global_clipnorm\": null, \"clipvalue\": null, \"use_ema\": false, \"ema_momentum\": 0.99, \"ema_overwrite_frequency\": null, \"jit_compile\": false, \"is_legacy_optimizer\": false, \"learning_rate\": 0.009999999776482582, \"momentum\": 0.0, \"nesterov\": false}}}\n",
            "dense_1\n",
            "dense\n",
            "tensorflow\n",
            "2.12.0\n",
            "dense/bias:0\n",
            "dense/kernel:0\n",
            "dense_1/bias:0\n",
            "dense_1/kernel:0\n",
            "SGD/m/dense_1/kernel:0\n",
            "SGD/m/dense_1/bias:0\n",
            "SGD/m/dense/bias:0\n",
            "SGD/m/dense/kernel:0\n",
            "iteration:0\n",
            "SNOD\n",
            "keras_version\n",
            "TREE\n",
            "HEAP\n",
            "dense\n",
            "SNOD\n",
            "weight_names\n",
            "TREE\n",
            "HEAP\n",
            "kernel:0\n",
            "bias:0\n",
            "SNOD\n",
            "SNOD\n",
            "<yyI\n",
            "=k{2>\n",
            "<,Bu>@\n",
            "[L=>\n",
            "K>>;w\n",
            "XE>K3\n",
            "={\"}\n",
            "RjG>\n",
            "<B\\G\n",
            "S0,=TM\n",
            "f><7\n",
            "c=g^S\n",
            "?&ag\n",
            "1>E\"q>\n",
            "o!8?\n",
            ">z&f?\n",
            ":R%q8\n",
            ":~XC\n",
            "TREE\n",
            "HEAP\n",
            "dense_1\n",
            "weight_names\n",
            "TREE\n",
            "HEAP\n",
            "kernel:0\n",
            "bias:0\n",
            "SNOD\n",
            "SNOD\n",
            "TREE\n",
            "HEAP\n",
            "weight_names\n",
            "TREE\n",
            "HEAP\n",
            "iteration:0\n",
            "weight_names\n",
            "SNOD\n",
            "TREE\n",
            "HEAP\n",
            "TREE\n",
            "HEAP\n",
            "dense\n",
            "dense_1\n",
            "SNOD\n",
            "TREE\n",
            "HEAP\n",
            "kernel:0\n",
            "bias:0\n",
            "SNOD\n",
            "SNOD\n",
            "7;#y\n",
            "\t:,x\n",
            "t'8s\n",
            "D8`3\n",
            "F9V^\n",
            "d8MI\n",
            "9cpw\n",
            "9*:2\n",
            ", 97\n",
            "tWm:)\n",
            "8:tU\n",
            "r28`:\n",
            "9$5K\n",
            "GQ9q\n",
            "^8n9\n",
            "f92y%\n",
            "9p|18\n",
            ";[+a9kmj;\n",
            " t9Y\n",
            "i:;.\n",
            "TREE\n",
            "HEAP\n",
            "kernel:0\n",
            "bias:0\n",
            "SNOD\n"
          ]
        }
      ]
    },
    {
      "cell_type": "code",
      "source": [
        "input_ = keras.layers.Input(shape=X_train.shape[1:])\n",
        "hidden1 = keras.layers.Dense(30,activation='relu')(input_)\n",
        "hidden2 = keras.layers.Dense(30,activation='relu')(hidden1)\n",
        "concat = keras.layers.concatenate([input_,hidden2])\n",
        "output = keras.layers.Dense(1)(concat)\n",
        "model = keras.models.Model(inputs = [input_],outputs=[output])\n",
        "\n",
        "model.summary()\n",
        "  "
      ],
      "metadata": {
        "id": "9RbL4e7cBrZw",
        "colab": {
          "base_uri": "https://localhost:8080/"
        },
        "outputId": "b268f53a-bb6d-4353-ca1e-6f14008a18e9"
      },
      "execution_count": null,
      "outputs": [
        {
          "output_type": "stream",
          "name": "stdout",
          "text": [
            "Model: \"model_6\"\n",
            "__________________________________________________________________________________________________\n",
            " Layer (type)                   Output Shape         Param #     Connected to                     \n",
            "==================================================================================================\n",
            " input_2 (InputLayer)           [(None, 8)]          0           []                               \n",
            "                                                                                                  \n",
            " dense_19 (Dense)               (None, 30)           270         ['input_2[0][0]']                \n",
            "                                                                                                  \n",
            " dense_20 (Dense)               (None, 30)           930         ['dense_19[0][0]']               \n",
            "                                                                                                  \n",
            " concatenate_8 (Concatenate)    (None, 38)           0           ['input_2[0][0]',                \n",
            "                                                                  'dense_20[0][0]']               \n",
            "                                                                                                  \n",
            " dense_21 (Dense)               (None, 1)            39          ['concatenate_8[0][0]']          \n",
            "                                                                                                  \n",
            "==================================================================================================\n",
            "Total params: 1,239\n",
            "Trainable params: 1,239\n",
            "Non-trainable params: 0\n",
            "__________________________________________________________________________________________________\n"
          ]
        }
      ]
    },
    {
      "cell_type": "code",
      "source": [
        "model.compile(loss='mean_squared_error',optimizer=keras.optimizers.SGD(lr=1e-3))\n",
        "history = model.fit(X_train,y_train,epochs=20,validation_data=(X_valid,y_valid))\n",
        "mse_test = model.evaluate(X_test,y_test)"
      ],
      "metadata": {
        "colab": {
          "base_uri": "https://localhost:8080/"
        },
        "id": "B-4R44kD6Lay",
        "outputId": "e3c27818-bdd9-49d7-fdbb-c1c002bc14e6"
      },
      "execution_count": null,
      "outputs": [
        {
          "output_type": "stream",
          "name": "stderr",
          "text": [
            "WARNING:absl:`lr` is deprecated in Keras optimizer, please use `learning_rate` or use the legacy optimizer, e.g.,tf.keras.optimizers.legacy.SGD.\n"
          ]
        },
        {
          "output_type": "stream",
          "name": "stdout",
          "text": [
            "Epoch 1/20\n",
            "363/363 [==============================] - 1s 2ms/step - loss: 0.7413 - val_loss: 0.5634\n",
            "Epoch 2/20\n",
            "363/363 [==============================] - 1s 2ms/step - loss: 1.6762 - val_loss: 0.4885\n",
            "Epoch 3/20\n",
            "363/363 [==============================] - 1s 2ms/step - loss: 0.4972 - val_loss: 0.4595\n",
            "Epoch 4/20\n",
            "363/363 [==============================] - 1s 2ms/step - loss: 0.4347 - val_loss: 0.4760\n",
            "Epoch 5/20\n",
            "363/363 [==============================] - 1s 2ms/step - loss: 1.3026 - val_loss: 0.5324\n",
            "Epoch 6/20\n",
            "363/363 [==============================] - 1s 3ms/step - loss: 0.7954 - val_loss: 0.4502\n",
            "Epoch 7/20\n",
            "363/363 [==============================] - 1s 2ms/step - loss: 0.4139 - val_loss: 0.4371\n",
            "Epoch 8/20\n",
            "363/363 [==============================] - 1s 3ms/step - loss: 0.3966 - val_loss: 0.4244\n",
            "Epoch 9/20\n",
            "363/363 [==============================] - 1s 3ms/step - loss: 0.3903 - val_loss: 0.4169\n",
            "Epoch 10/20\n",
            "363/363 [==============================] - 1s 2ms/step - loss: 0.3846 - val_loss: 0.4082\n",
            "Epoch 11/20\n",
            "363/363 [==============================] - 1s 2ms/step - loss: 0.3874 - val_loss: 0.4091\n",
            "Epoch 12/20\n",
            "363/363 [==============================] - 1s 2ms/step - loss: 0.3729 - val_loss: 0.4023\n",
            "Epoch 13/20\n",
            "363/363 [==============================] - 1s 2ms/step - loss: 0.3706 - val_loss: 0.4059\n",
            "Epoch 14/20\n",
            "363/363 [==============================] - 1s 2ms/step - loss: 0.3636 - val_loss: 0.3895\n",
            "Epoch 15/20\n",
            "363/363 [==============================] - 1s 2ms/step - loss: 0.3589 - val_loss: 0.3850\n",
            "Epoch 16/20\n",
            "363/363 [==============================] - 1s 2ms/step - loss: 0.3542 - val_loss: 0.3863\n",
            "Epoch 17/20\n",
            "363/363 [==============================] - 1s 2ms/step - loss: 0.3504 - val_loss: 0.3777\n",
            "Epoch 18/20\n",
            "363/363 [==============================] - 1s 2ms/step - loss: 0.3479 - val_loss: 0.3782\n",
            "Epoch 19/20\n",
            "363/363 [==============================] - 1s 2ms/step - loss: 0.3475 - val_loss: 0.3831\n",
            "Epoch 20/20\n",
            "363/363 [==============================] - 1s 2ms/step - loss: 0.3401 - val_loss: 0.3702\n",
            "162/162 [==============================] - 0s 1ms/step - loss: 0.3556\n"
          ]
        }
      ]
    },
    {
      "cell_type": "code",
      "source": [
        "input_A = keras.layers.Input(shape=[5],name='wide_input')\n",
        "input_B = keras.layers.Input(shape=[6],name='deep_input')\n",
        "hidden1 = keras.layers.Dense(30,activation='relu')(input_B)\n",
        "hidden2 = keras.layers.Dense(30,activation='relu')(hidden1)\n",
        "concat = keras.layers.concatenate([input_A,hidden2])\n",
        "output = keras.layers.Dense(1,name='output')(concat)\n",
        "model = keras.models.Model(inputs=[input_A,input_B],outputs=[output]) "
      ],
      "metadata": {
        "id": "nkLHCxIk7w3C"
      },
      "execution_count": null,
      "outputs": []
    },
    {
      "cell_type": "code",
      "source": [
        "X_train_A,X_train_B = X_train[:,:5],X_train[:,2:]\n",
        "X_valid_A,X_valid_B = X_valid[:,:5],X_valid[:,2:]\n",
        "X_test_A,X_test_B = X_test[:,:5],X_test[:,2:]\n",
        "X_new_A,X_new_B = X_test_A[:3],X_test_B[:3]"
      ],
      "metadata": {
        "id": "JCTUAzYr-Wg_"
      },
      "execution_count": null,
      "outputs": []
    },
    {
      "cell_type": "code",
      "source": [
        "input_A = keras.layers.Input(shape=[5],name='wide_input')\n",
        "input_B = keras.layers.Input(shape=[6],name='deep_input')\n",
        "hidden1 = keras.layers.Dense(30,activation='relu')(input_B)\n",
        "hidden2 = keras.layers.Dense(30,activation='relu')(hidden1)\n",
        "concat = keras.layers.concatenate([input_A,hidden2])\n",
        "output = keras.layers.Dense(1,name='output')(concat)\n",
        "aux_output = keras.layers.Dense(1,name='aux_output')(hidden2)\n",
        "model = keras.models.Model(inputs=[input_A,input_B],outputs=[output]) "
      ],
      "metadata": {
        "id": "5Z5M_r5SBlu-"
      },
      "execution_count": null,
      "outputs": []
    },
    {
      "cell_type": "code",
      "source": [
        "model.compile(loss=['mse','mse'],loss_weights=[0.9,0.1],optimizer=keras.optimizers.SGD(lr=1e-3))"
      ],
      "metadata": {
        "colab": {
          "base_uri": "https://localhost:8080/"
        },
        "id": "x1bSOzzLDBaX",
        "outputId": "9e78302e-5417-4323-938e-5b6c44f61c48"
      },
      "execution_count": null,
      "outputs": [
        {
          "output_type": "stream",
          "name": "stderr",
          "text": [
            "WARNING:absl:`lr` is deprecated in Keras optimizer, please use `learning_rate` or use the legacy optimizer, e.g.,tf.keras.optimizers.legacy.SGD.\n"
          ]
        }
      ]
    },
    {
      "cell_type": "code",
      "source": [
        "total_loss,main_loss,aux_loss = model.evaluate([X_test_A,X_test_B],[y_test,y_test])\n",
        "y_pred_main,y_pred_aux = model.predict([X_new_A,X_new_B])"
      ],
      "metadata": {
        "colab": {
          "base_uri": "https://localhost:8080/",
          "height": 589
        },
        "id": "p8_PEtGEEBZ8",
        "outputId": "5fa52c1f-fab0-4d62-d18b-871eabdf70c8"
      },
      "execution_count": null,
      "outputs": [
        {
          "output_type": "error",
          "ename": "ValueError",
          "evalue": "ignored",
          "traceback": [
            "\u001b[0;31m---------------------------------------------------------------------------\u001b[0m",
            "\u001b[0;31mValueError\u001b[0m                                Traceback (most recent call last)",
            "\u001b[0;32m<ipython-input-27-24bb03b10bdc>\u001b[0m in \u001b[0;36m<cell line: 1>\u001b[0;34m()\u001b[0m\n\u001b[0;32m----> 1\u001b[0;31m \u001b[0mtotal_loss\u001b[0m\u001b[0;34m,\u001b[0m\u001b[0mmain_loss\u001b[0m\u001b[0;34m,\u001b[0m\u001b[0maux_loss\u001b[0m \u001b[0;34m=\u001b[0m \u001b[0mmodel\u001b[0m\u001b[0;34m.\u001b[0m\u001b[0mevaluate\u001b[0m\u001b[0;34m(\u001b[0m\u001b[0;34m[\u001b[0m\u001b[0mX_test_A\u001b[0m\u001b[0;34m,\u001b[0m\u001b[0mX_test_B\u001b[0m\u001b[0;34m]\u001b[0m\u001b[0;34m,\u001b[0m\u001b[0;34m[\u001b[0m\u001b[0my_test\u001b[0m\u001b[0;34m,\u001b[0m\u001b[0my_test\u001b[0m\u001b[0;34m]\u001b[0m\u001b[0;34m)\u001b[0m\u001b[0;34m\u001b[0m\u001b[0;34m\u001b[0m\u001b[0m\n\u001b[0m\u001b[1;32m      2\u001b[0m \u001b[0my_pred_main\u001b[0m\u001b[0;34m,\u001b[0m\u001b[0my_pred_aux\u001b[0m \u001b[0;34m=\u001b[0m \u001b[0mmodel\u001b[0m\u001b[0;34m.\u001b[0m\u001b[0mpredict\u001b[0m\u001b[0;34m(\u001b[0m\u001b[0;34m[\u001b[0m\u001b[0mX_new_A\u001b[0m\u001b[0;34m,\u001b[0m\u001b[0mX_new_B\u001b[0m\u001b[0;34m]\u001b[0m\u001b[0;34m)\u001b[0m\u001b[0;34m\u001b[0m\u001b[0;34m\u001b[0m\u001b[0m\n",
            "\u001b[0;32m/usr/local/lib/python3.9/dist-packages/keras/utils/traceback_utils.py\u001b[0m in \u001b[0;36merror_handler\u001b[0;34m(*args, **kwargs)\u001b[0m\n\u001b[1;32m     68\u001b[0m             \u001b[0;31m# To get the full stack trace, call:\u001b[0m\u001b[0;34m\u001b[0m\u001b[0;34m\u001b[0m\u001b[0m\n\u001b[1;32m     69\u001b[0m             \u001b[0;31m# `tf.debugging.disable_traceback_filtering()`\u001b[0m\u001b[0;34m\u001b[0m\u001b[0;34m\u001b[0m\u001b[0m\n\u001b[0;32m---> 70\u001b[0;31m             \u001b[0;32mraise\u001b[0m \u001b[0me\u001b[0m\u001b[0;34m.\u001b[0m\u001b[0mwith_traceback\u001b[0m\u001b[0;34m(\u001b[0m\u001b[0mfiltered_tb\u001b[0m\u001b[0;34m)\u001b[0m \u001b[0;32mfrom\u001b[0m \u001b[0;32mNone\u001b[0m\u001b[0;34m\u001b[0m\u001b[0;34m\u001b[0m\u001b[0m\n\u001b[0m\u001b[1;32m     71\u001b[0m         \u001b[0;32mfinally\u001b[0m\u001b[0;34m:\u001b[0m\u001b[0;34m\u001b[0m\u001b[0;34m\u001b[0m\u001b[0m\n\u001b[1;32m     72\u001b[0m             \u001b[0;32mdel\u001b[0m \u001b[0mfiltered_tb\u001b[0m\u001b[0;34m\u001b[0m\u001b[0;34m\u001b[0m\u001b[0m\n",
            "\u001b[0;32m/usr/local/lib/python3.9/dist-packages/keras/engine/training.py\u001b[0m in \u001b[0;36mtf__test_function\u001b[0;34m(iterator)\u001b[0m\n\u001b[1;32m     13\u001b[0m                 \u001b[0;32mtry\u001b[0m\u001b[0;34m:\u001b[0m\u001b[0;34m\u001b[0m\u001b[0;34m\u001b[0m\u001b[0m\n\u001b[1;32m     14\u001b[0m                     \u001b[0mdo_return\u001b[0m \u001b[0;34m=\u001b[0m \u001b[0;32mTrue\u001b[0m\u001b[0;34m\u001b[0m\u001b[0;34m\u001b[0m\u001b[0m\n\u001b[0;32m---> 15\u001b[0;31m                     \u001b[0mretval_\u001b[0m \u001b[0;34m=\u001b[0m \u001b[0mag__\u001b[0m\u001b[0;34m.\u001b[0m\u001b[0mconverted_call\u001b[0m\u001b[0;34m(\u001b[0m\u001b[0mag__\u001b[0m\u001b[0;34m.\u001b[0m\u001b[0mld\u001b[0m\u001b[0;34m(\u001b[0m\u001b[0mstep_function\u001b[0m\u001b[0;34m)\u001b[0m\u001b[0;34m,\u001b[0m \u001b[0;34m(\u001b[0m\u001b[0mag__\u001b[0m\u001b[0;34m.\u001b[0m\u001b[0mld\u001b[0m\u001b[0;34m(\u001b[0m\u001b[0mself\u001b[0m\u001b[0;34m)\u001b[0m\u001b[0;34m,\u001b[0m \u001b[0mag__\u001b[0m\u001b[0;34m.\u001b[0m\u001b[0mld\u001b[0m\u001b[0;34m(\u001b[0m\u001b[0miterator\u001b[0m\u001b[0;34m)\u001b[0m\u001b[0;34m)\u001b[0m\u001b[0;34m,\u001b[0m \u001b[0;32mNone\u001b[0m\u001b[0;34m,\u001b[0m \u001b[0mfscope\u001b[0m\u001b[0;34m)\u001b[0m\u001b[0;34m\u001b[0m\u001b[0;34m\u001b[0m\u001b[0m\n\u001b[0m\u001b[1;32m     16\u001b[0m                 \u001b[0;32mexcept\u001b[0m\u001b[0;34m:\u001b[0m\u001b[0;34m\u001b[0m\u001b[0;34m\u001b[0m\u001b[0m\n\u001b[1;32m     17\u001b[0m                     \u001b[0mdo_return\u001b[0m \u001b[0;34m=\u001b[0m \u001b[0;32mFalse\u001b[0m\u001b[0;34m\u001b[0m\u001b[0;34m\u001b[0m\u001b[0m\n",
            "\u001b[0;31mValueError\u001b[0m: in user code:\n\n    File \"/usr/local/lib/python3.9/dist-packages/keras/engine/training.py\", line 1852, in test_function  *\n        return step_function(self, iterator)\n    File \"/usr/local/lib/python3.9/dist-packages/keras/engine/training.py\", line 1836, in step_function  **\n        outputs = model.distribute_strategy.run(run_step, args=(data,))\n    File \"/usr/local/lib/python3.9/dist-packages/keras/engine/training.py\", line 1824, in run_step  **\n        outputs = model.test_step(data)\n    File \"/usr/local/lib/python3.9/dist-packages/keras/engine/training.py\", line 1788, in test_step\n        y_pred = self(x, training=False)\n    File \"/usr/local/lib/python3.9/dist-packages/keras/utils/traceback_utils.py\", line 70, in error_handler\n        raise e.with_traceback(filtered_tb) from None\n    File \"/usr/local/lib/python3.9/dist-packages/keras/engine/input_spec.py\", line 219, in assert_input_compatibility\n        raise ValueError(\n\n    ValueError: Layer \"model_6\" expects 1 input(s), but it received 2 input tensors. Inputs received: [<tf.Tensor 'IteratorGetNext:0' shape=(None, 5) dtype=float32>, <tf.Tensor 'IteratorGetNext:1' shape=(None, 6) dtype=float32>]\n"
          ]
        }
      ]
    },
    {
      "cell_type": "code",
      "source": [],
      "metadata": {
        "id": "nCfnEKwPFxl7"
      },
      "execution_count": null,
      "outputs": []
    }
  ]
}