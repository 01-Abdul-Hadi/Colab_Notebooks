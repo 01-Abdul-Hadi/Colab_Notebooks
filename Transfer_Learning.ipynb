{
  "nbformat": 4,
  "nbformat_minor": 0,
  "metadata": {
    "colab": {
      "provenance": []
    },
    "kernelspec": {
      "name": "python3",
      "display_name": "Python 3"
    },
    "language_info": {
      "name": "python"
    }
  },
  "cells": [
    {
      "cell_type": "code",
      "execution_count": null,
      "metadata": {
        "id": "jvJZ-xEo6_d2"
      },
      "outputs": [],
      "source": [
        "  import tensorflow as tf\n",
        "  from tensorflow import keras\n",
        "  import numpy as np"
      ]
    },
    {
      "cell_type": "code",
      "source": [
        "(X_train_full,y_train_full),(X_test,y_test) = keras.datasets.fashion_mnist.load_data()"
      ],
      "metadata": {
        "id": "epHmiYPPA7Is"
      },
      "execution_count": null,
      "outputs": []
    },
    {
      "cell_type": "code",
      "source": [
        "X_train_full = X_train_full[:30000]\n",
        "y_train_full = y_train_full[:30000]\n",
        "\n",
        "X_test = X_test[:5000]\n",
        "y_test = y_test[:5000]\n"
      ],
      "metadata": {
        "id": "EJ9BfCkICIfq"
      },
      "execution_count": null,
      "outputs": []
    },
    {
      "cell_type": "code",
      "source": [
        "X_train_full = X_train_full / 255\n",
        "X_test = X_test / 255\n",
        "\n",
        "X_valid,X_train = X_train_full[:5000],X_train_full[5000:]\n",
        "y_valid,y_train = y_train_full[:5000],y_train_full[5000:]"
      ],
      "metadata": {
        "id": "PnEpitHYDBay"
      },
      "execution_count": null,
      "outputs": []
    },
    {
      "cell_type": "code",
      "source": [
        "def split_dataset(X,y):\n",
        "  y_5_or_6 = (y==5) | (y==6) \n",
        "  y_A = y[~y_5_or_6]\n",
        "  y_A[y_A > 6] -= 2\n",
        "  y_B = (y[y_5_or_6] == 6).astype(np.float32)\n",
        "  return ((X[~y_5_or_6],y_A),\n",
        "          (X[y_5_or_6],y_B))"
      ],
      "metadata": {
        "id": "z0un--0uDvKa"
      },
      "execution_count": null,
      "outputs": []
    },
    {
      "cell_type": "code",
      "source": [
        "(X_train_A,y_train_A),(X_train_B,y_train_B) = split_dataset(X_train,y_train)\n",
        "(X_valid_A,y_valid_A),(X_valid_B,y_valid_B) = split_dataset(X_valid,y_valid)\n",
        "(X_test_A,y_test_A),(X_test_B,y_test_B) = split_dataset(X_test,y_test)\n",
        "X_train_B = X_train_B[:200]\n",
        "y_train_B = y_train_B[:200]"
      ],
      "metadata": {
        "id": "K2Og74uFGsE7"
      },
      "execution_count": null,
      "outputs": []
    },
    {
      "cell_type": "code",
      "source": [],
      "metadata": {
        "id": "-zzvjowfIv9y"
      },
      "execution_count": null,
      "outputs": []
    },
    {
      "cell_type": "code",
      "source": [
        "model_A = keras.models.Sequential()\n",
        "model_A.add(keras.layers.Flatten(input_shape=[28,28]))\n",
        "for n_hidden in (300,100,50,50,50):\n",
        "  model_A.add(keras.layers.Dense(n_hidden,activation='selu'))\n",
        "model_A.add(keras.layers.Dense(8,activation='softmax'))\n",
        "   "
      ],
      "metadata": {
        "id": "fSRjMmKRBOFN"
      },
      "execution_count": null,
      "outputs": []
    },
    {
      "cell_type": "code",
      "source": [
        "model_A.compile(loss='sparse_categorical_crossentropy',optimizer=keras.optimizers.SGD(learning_rate=1e-3),\n",
        "                metrics=['accuracy'])\n"
      ],
      "metadata": {
        "id": "wc5yzaYgBS-S"
      },
      "execution_count": null,
      "outputs": []
    },
    {
      "cell_type": "code",
      "source": [
        " history = model_A.fit(X_train_A,y_train_A,epochs=5,\n",
        "                       validation_data=(X_valid_A,y_valid_A),\n",
        "                      #  callbacks=[keras.callbacks.EarlyStopping(patience=4)]\n",
        "                       )"
      ],
      "metadata": {
        "colab": {
          "base_uri": "https://localhost:8080/"
        },
        "id": "0encf5G5BfZR",
        "outputId": "fad378c4-dae3-4800-ac77-998bd6ad602b"
      },
      "execution_count": null,
      "outputs": [
        {
          "output_type": "stream",
          "name": "stdout",
          "text": [
            "Epoch 1/5\n",
            "622/622 [==============================] - 4s 6ms/step - loss: 0.1968 - accuracy: 0.9323 - val_loss: 0.2405 - val_accuracy: 0.9178\n",
            "Epoch 2/5\n",
            "622/622 [==============================] - 3s 5ms/step - loss: 0.1959 - accuracy: 0.9311 - val_loss: 0.2406 - val_accuracy: 0.9180\n",
            "Epoch 3/5\n",
            "622/622 [==============================] - 3s 5ms/step - loss: 0.1943 - accuracy: 0.9337 - val_loss: 0.2404 - val_accuracy: 0.9185\n",
            "Epoch 4/5\n",
            "622/622 [==============================] - 4s 7ms/step - loss: 0.1931 - accuracy: 0.9329 - val_loss: 0.2563 - val_accuracy: 0.9103\n",
            "Epoch 5/5\n",
            "622/622 [==============================] - 3s 5ms/step - loss: 0.1920 - accuracy: 0.9337 - val_loss: 0.2458 - val_accuracy: 0.9163\n"
          ]
        }
      ]
    },
    {
      "cell_type": "code",
      "source": [
        "model_A.save('my_model_A.h5')\n"
      ],
      "metadata": {
        "id": "OA7p5wuQOq_V"
      },
      "execution_count": null,
      "outputs": []
    },
    {
      "cell_type": "code",
      "source": [
        "model_B = keras.models.Sequential()\n",
        "model_B.add(keras.layers.Flatten(input_shape=[28,28]))\n",
        "for n_hidden in (300,100,50,50,50):\n",
        "  model_B.add(keras.layers.Dense(n_hidden,activation='selu'))\n",
        "model_B.add(keras.layers.Dense(1,activation='softmax'))\n",
        "   \n",
        "\n",
        "model_B.compile(loss='binary_crossentropy',optimizer=keras.optimizers.SGD(learning_rate=1e-3),\n",
        "                metrics=['accuracy'])"
      ],
      "metadata": {
        "id": "6RECvg2PKuA1"
      },
      "execution_count": null,
      "outputs": []
    },
    {
      "cell_type": "code",
      "source": [
        "history = model_B.fit(X_train_B,y_train_B,epochs=50,\n",
        "                      validation_data = (X_valid_B,y_valid_B))"
      ],
      "metadata": {
        "colab": {
          "base_uri": "https://localhost:8080/"
        },
        "id": "oxbyuIGtL9uE",
        "outputId": "ee25f974-cb4f-44fa-de29-db9e6c283620"
      },
      "execution_count": null,
      "outputs": [
        {
          "output_type": "stream",
          "name": "stdout",
          "text": [
            "Epoch 1/50\n",
            "7/7 [==============================] - 1s 63ms/step - loss: 0.5066 - accuracy: 0.4950 - val_loss: 0.4159 - val_accuracy: 0.5000\n",
            "Epoch 2/50\n",
            "7/7 [==============================] - 0s 22ms/step - loss: 0.3465 - accuracy: 0.4950 - val_loss: 0.3260 - val_accuracy: 0.5000\n",
            "Epoch 3/50\n",
            "7/7 [==============================] - 0s 20ms/step - loss: 0.2666 - accuracy: 0.4950 - val_loss: 0.2647 - val_accuracy: 0.5000\n",
            "Epoch 4/50\n",
            "7/7 [==============================] - 0s 33ms/step - loss: 0.2131 - accuracy: 0.4950 - val_loss: 0.2309 - val_accuracy: 0.5000\n",
            "Epoch 5/50\n",
            "7/7 [==============================] - 0s 32ms/step - loss: 0.1791 - accuracy: 0.4950 - val_loss: 0.2020 - val_accuracy: 0.5000\n",
            "Epoch 6/50\n",
            "7/7 [==============================] - 0s 33ms/step - loss: 0.1536 - accuracy: 0.4950 - val_loss: 0.1845 - val_accuracy: 0.5000\n",
            "Epoch 7/50\n",
            "7/7 [==============================] - 0s 33ms/step - loss: 0.1358 - accuracy: 0.4950 - val_loss: 0.1661 - val_accuracy: 0.5000\n",
            "Epoch 8/50\n",
            "7/7 [==============================] - 0s 21ms/step - loss: 0.1208 - accuracy: 0.4950 - val_loss: 0.1544 - val_accuracy: 0.5000\n",
            "Epoch 9/50\n",
            "7/7 [==============================] - 0s 20ms/step - loss: 0.1093 - accuracy: 0.4950 - val_loss: 0.1460 - val_accuracy: 0.5000\n",
            "Epoch 10/50\n",
            "7/7 [==============================] - 0s 20ms/step - loss: 0.0998 - accuracy: 0.4950 - val_loss: 0.1379 - val_accuracy: 0.5000\n",
            "Epoch 11/50\n",
            "7/7 [==============================] - 0s 19ms/step - loss: 0.0924 - accuracy: 0.4950 - val_loss: 0.1300 - val_accuracy: 0.5000\n",
            "Epoch 12/50\n",
            "7/7 [==============================] - 0s 32ms/step - loss: 0.0858 - accuracy: 0.4950 - val_loss: 0.1242 - val_accuracy: 0.5000\n",
            "Epoch 13/50\n",
            "7/7 [==============================] - 0s 33ms/step - loss: 0.0807 - accuracy: 0.4950 - val_loss: 0.1188 - val_accuracy: 0.5000\n",
            "Epoch 14/50\n",
            "7/7 [==============================] - 0s 33ms/step - loss: 0.0755 - accuracy: 0.4950 - val_loss: 0.1162 - val_accuracy: 0.5000\n",
            "Epoch 15/50\n",
            "7/7 [==============================] - 0s 21ms/step - loss: 0.0712 - accuracy: 0.4950 - val_loss: 0.1107 - val_accuracy: 0.5000\n",
            "Epoch 16/50\n",
            "7/7 [==============================] - 0s 21ms/step - loss: 0.0671 - accuracy: 0.4950 - val_loss: 0.1075 - val_accuracy: 0.5000\n",
            "Epoch 17/50\n",
            "7/7 [==============================] - 0s 20ms/step - loss: 0.0640 - accuracy: 0.4950 - val_loss: 0.1036 - val_accuracy: 0.5000\n",
            "Epoch 18/50\n",
            "7/7 [==============================] - 0s 33ms/step - loss: 0.0607 - accuracy: 0.4950 - val_loss: 0.1010 - val_accuracy: 0.5000\n",
            "Epoch 19/50\n",
            "7/7 [==============================] - 0s 20ms/step - loss: 0.0581 - accuracy: 0.4950 - val_loss: 0.0987 - val_accuracy: 0.5000\n",
            "Epoch 20/50\n",
            "7/7 [==============================] - 0s 21ms/step - loss: 0.0555 - accuracy: 0.4950 - val_loss: 0.0965 - val_accuracy: 0.5000\n",
            "Epoch 21/50\n",
            "7/7 [==============================] - 0s 34ms/step - loss: 0.0532 - accuracy: 0.4950 - val_loss: 0.0939 - val_accuracy: 0.5000\n",
            "Epoch 22/50\n",
            "7/7 [==============================] - 0s 32ms/step - loss: 0.0511 - accuracy: 0.4950 - val_loss: 0.0912 - val_accuracy: 0.5000\n",
            "Epoch 23/50\n",
            "7/7 [==============================] - 0s 32ms/step - loss: 0.0491 - accuracy: 0.4950 - val_loss: 0.0894 - val_accuracy: 0.5000\n",
            "Epoch 24/50\n",
            "7/7 [==============================] - 0s 35ms/step - loss: 0.0473 - accuracy: 0.4950 - val_loss: 0.0876 - val_accuracy: 0.5000\n",
            "Epoch 25/50\n",
            "7/7 [==============================] - 0s 33ms/step - loss: 0.0457 - accuracy: 0.4950 - val_loss: 0.0858 - val_accuracy: 0.5000\n",
            "Epoch 26/50\n",
            "7/7 [==============================] - 0s 21ms/step - loss: 0.0441 - accuracy: 0.4950 - val_loss: 0.0843 - val_accuracy: 0.5000\n",
            "Epoch 27/50\n",
            "7/7 [==============================] - 0s 32ms/step - loss: 0.0428 - accuracy: 0.4950 - val_loss: 0.0827 - val_accuracy: 0.5000\n",
            "Epoch 28/50\n",
            "7/7 [==============================] - 0s 33ms/step - loss: 0.0414 - accuracy: 0.4950 - val_loss: 0.0817 - val_accuracy: 0.5000\n",
            "Epoch 29/50\n",
            "7/7 [==============================] - 0s 21ms/step - loss: 0.0402 - accuracy: 0.4950 - val_loss: 0.0803 - val_accuracy: 0.5000\n",
            "Epoch 30/50\n",
            "7/7 [==============================] - 0s 33ms/step - loss: 0.0391 - accuracy: 0.4950 - val_loss: 0.0791 - val_accuracy: 0.5000\n",
            "Epoch 31/50\n",
            "7/7 [==============================] - 0s 33ms/step - loss: 0.0380 - accuracy: 0.4950 - val_loss: 0.0778 - val_accuracy: 0.5000\n",
            "Epoch 32/50\n",
            "7/7 [==============================] - 0s 20ms/step - loss: 0.0370 - accuracy: 0.4950 - val_loss: 0.0772 - val_accuracy: 0.5000\n",
            "Epoch 33/50\n",
            "7/7 [==============================] - 0s 33ms/step - loss: 0.0361 - accuracy: 0.4950 - val_loss: 0.0762 - val_accuracy: 0.5000\n",
            "Epoch 34/50\n",
            "7/7 [==============================] - 0s 32ms/step - loss: 0.0352 - accuracy: 0.4950 - val_loss: 0.0750 - val_accuracy: 0.5000\n",
            "Epoch 35/50\n",
            "7/7 [==============================] - 0s 32ms/step - loss: 0.0342 - accuracy: 0.4950 - val_loss: 0.0737 - val_accuracy: 0.5000\n",
            "Epoch 36/50\n",
            "7/7 [==============================] - 0s 22ms/step - loss: 0.0333 - accuracy: 0.4950 - val_loss: 0.0727 - val_accuracy: 0.5000\n",
            "Epoch 37/50\n",
            "7/7 [==============================] - 0s 19ms/step - loss: 0.0324 - accuracy: 0.4950 - val_loss: 0.0722 - val_accuracy: 0.5000\n",
            "Epoch 38/50\n",
            "7/7 [==============================] - 0s 33ms/step - loss: 0.0317 - accuracy: 0.4950 - val_loss: 0.0715 - val_accuracy: 0.5000\n",
            "Epoch 39/50\n",
            "7/7 [==============================] - 0s 32ms/step - loss: 0.0310 - accuracy: 0.4950 - val_loss: 0.0707 - val_accuracy: 0.5000\n",
            "Epoch 40/50\n",
            "7/7 [==============================] - 0s 32ms/step - loss: 0.0303 - accuracy: 0.4950 - val_loss: 0.0700 - val_accuracy: 0.5000\n",
            "Epoch 41/50\n",
            "7/7 [==============================] - 0s 20ms/step - loss: 0.0298 - accuracy: 0.4950 - val_loss: 0.0691 - val_accuracy: 0.5000\n",
            "Epoch 42/50\n",
            "7/7 [==============================] - 0s 33ms/step - loss: 0.0291 - accuracy: 0.4950 - val_loss: 0.0685 - val_accuracy: 0.5000\n",
            "Epoch 43/50\n",
            "7/7 [==============================] - 0s 20ms/step - loss: 0.0284 - accuracy: 0.4950 - val_loss: 0.0675 - val_accuracy: 0.5000\n",
            "Epoch 44/50\n",
            "7/7 [==============================] - 0s 33ms/step - loss: 0.0278 - accuracy: 0.4950 - val_loss: 0.0667 - val_accuracy: 0.5000\n",
            "Epoch 45/50\n",
            "7/7 [==============================] - 0s 33ms/step - loss: 0.0271 - accuracy: 0.4950 - val_loss: 0.0664 - val_accuracy: 0.5000\n",
            "Epoch 46/50\n",
            "7/7 [==============================] - 0s 21ms/step - loss: 0.0266 - accuracy: 0.4950 - val_loss: 0.0659 - val_accuracy: 0.5000\n",
            "Epoch 47/50\n",
            "7/7 [==============================] - 0s 32ms/step - loss: 0.0262 - accuracy: 0.4950 - val_loss: 0.0654 - val_accuracy: 0.5000\n",
            "Epoch 48/50\n",
            "7/7 [==============================] - 0s 32ms/step - loss: 0.0256 - accuracy: 0.4950 - val_loss: 0.0650 - val_accuracy: 0.5000\n",
            "Epoch 49/50\n",
            "7/7 [==============================] - 0s 33ms/step - loss: 0.0252 - accuracy: 0.4950 - val_loss: 0.0646 - val_accuracy: 0.5000\n",
            "Epoch 50/50\n",
            "7/7 [==============================] - 0s 32ms/step - loss: 0.0247 - accuracy: 0.4950 - val_loss: 0.0641 - val_accuracy: 0.5000\n"
          ]
        }
      ]
    },
    {
      "cell_type": "code",
      "source": [],
      "metadata": {
        "id": "fnROV6LpMKWj"
      },
      "execution_count": null,
      "outputs": []
    }
  ]
}