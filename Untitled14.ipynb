{
  "nbformat": 4,
  "nbformat_minor": 0,
  "metadata": {
    "colab": {
      "provenance": []
    },
    "kernelspec": {
      "name": "python3",
      "display_name": "Python 3"
    },
    "language_info": {
      "name": "python"
    }
  },
  "cells": [
    {
      "cell_type": "code",
      "execution_count": null,
      "metadata": {
        "id": "7RFRjuZyIQ5h"
      },
      "outputs": [],
      "source": [
        "import pandas as pd\n",
        "import numpy as np"
      ]
    },
    {
      "cell_type": "code",
      "source": [
        "from sklearn.datasets import fetch_openml\n",
        "mnist = fetch_openml('mnist_784')"
      ],
      "metadata": {
        "id": "VP5TDAkoIdFK"
      },
      "execution_count": null,
      "outputs": []
    },
    {
      "cell_type": "code",
      "source": [
        "X = mnist['data']\n",
        "y = mnist['target']\n",
        "from sklearn.model_selection import train_test_split\n",
        "X_train,X_test,y_train,y_test = train_test_split(X,y,test_size = 0.3)"
      ],
      "metadata": {
        "id": "qf0vngShInTe"
      },
      "execution_count": null,
      "outputs": []
    },
    {
      "cell_type": "code",
      "source": [
        "from sklearn.decomposition import PCA\n",
        "pca = PCA(n_components = 0.95)\n",
        "X_reduced = pca.fit_transform(X_train)"
      ],
      "metadata": {
        "id": "qoCFMgCxJaBW"
      },
      "execution_count": null,
      "outputs": []
    },
    {
      "cell_type": "code",
      "source": [
        "from sklearn.linear_model import SGDClassifier\n",
        "sgd = SGDClassifier(max_iter = 1000,tol = 0.1)\n",
        "sgd.fit(X_reduced,y_train)\n",
        "\n"
      ],
      "metadata": {
        "colab": {
          "base_uri": "https://localhost:8080/"
        },
        "id": "UtFO1OlyJ49F",
        "outputId": "45c75d2c-1147-467e-945f-d51fbbbc5e2a"
      },
      "execution_count": null,
      "outputs": [
        {
          "output_type": "execute_result",
          "data": {
            "text/plain": [
              "SGDClassifier(tol=0.1)"
            ]
          },
          "metadata": {},
          "execution_count": 13
        }
      ]
    },
    {
      "cell_type": "code",
      "source": [
        "pca1 = PCA(n_components = 0.95)\n",
        "X_test_reduced = pca1.fit_transform(X_test)"
      ],
      "metadata": {
        "id": "X_rXB6lNLIAz"
      },
      "execution_count": null,
      "outputs": []
    },
    {
      "cell_type": "code",
      "source": [
        "X_reduced = pca.fit_transform(X)\n",
        "X_train,X_test,y_train,y_test = train_test_split(X_reduced,y,test_size = 0.3)"
      ],
      "metadata": {
        "id": "I9rESTfpLkgO"
      },
      "execution_count": null,
      "outputs": []
    },
    {
      "cell_type": "code",
      "source": [
        "from sklearn.linear_model import SGDClassifier\n",
        "sgd = SGDClassifier(max_iter = 1000,tol = 0.1)\n",
        "sgd.fit(X_train,y_train)"
      ],
      "metadata": {
        "colab": {
          "base_uri": "https://localhost:8080/"
        },
        "id": "eYkcDKcULzWy",
        "outputId": "761d989a-609c-4056-93e1-a090962488f2"
      },
      "execution_count": null,
      "outputs": [
        {
          "output_type": "execute_result",
          "data": {
            "text/plain": [
              "SGDClassifier(tol=0.1)"
            ]
          },
          "metadata": {},
          "execution_count": 18
        }
      ]
    },
    {
      "cell_type": "code",
      "source": [
        "y_pred = sgd.predict(X_test)"
      ],
      "metadata": {
        "id": "Uz4t3npVKlLR"
      },
      "execution_count": null,
      "outputs": []
    },
    {
      "cell_type": "code",
      "source": [
        "from sklearn.metrics import confusion_matrix,accuracy_score\n",
        "print(accuracy_score(y_pred,y_test))\n",
        "cm = confusion_matrix(y_pred,y_test)\n",
        "print(cm)"
      ],
      "metadata": {
        "colab": {
          "base_uri": "https://localhost:8080/"
        },
        "id": "oqSzaTA3KtHu",
        "outputId": "97b899d6-4495-4057-8692-1560b16b963b"
      },
      "execution_count": null,
      "outputs": [
        {
          "output_type": "stream",
          "name": "stdout",
          "text": [
            "0.8881428571428571\n",
            "[[2011    1   58   33   20   54   49   17   30   28]\n",
            " [   2 2282   17    4   11   17   13   13   77    7]\n",
            " [   4   12 1869   53   19   24   51   11   35    5]\n",
            " [   5    7   37 1757   10   61    1   29   37   46]\n",
            " [   2    2   18    2 1824   22   24   23   20   68]\n",
            " [  11   16   13   92    1 1599   30   11   81   36]\n",
            " [   9    0   23    2    6   28 1871    0   17    0]\n",
            " [   3    3   55   33   21   28    5 2094   15  111]\n",
            " [  12   31   43   35   22   37    9   15 1540   16]\n",
            " [   5    5   10   58   96   36    0   82  108 1804]]\n"
          ]
        }
      ]
    },
    {
      "cell_type": "code",
      "source": [],
      "metadata": {
        "id": "Vr816uuzMQDB"
      },
      "execution_count": null,
      "outputs": []
    }
  ]
}