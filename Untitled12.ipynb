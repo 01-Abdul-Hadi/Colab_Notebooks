{
  "nbformat": 4,
  "nbformat_minor": 0,
  "metadata": {
    "colab": {
      "provenance": []
    },
    "kernelspec": {
      "name": "python3",
      "display_name": "Python 3"
    },
    "language_info": {
      "name": "python"
    }
  },
  "cells": [
    {
      "cell_type": "code",
      "execution_count": null,
      "metadata": {
        "id": "XiPLGpmTAZn8",
        "colab": {
          "base_uri": "https://localhost:8080/"
        },
        "outputId": "daed7485-bbd3-43a4-f924-652564602f88"
      },
      "outputs": [
        {
          "output_type": "stream",
          "name": "stdout",
          "text": [
            "   Sl.No  Roll.no    Name Gender  SSLC percentage  PU percentage  \\\n",
            "0      1       11  Aayush      M               92             86   \n",
            "1      2       12   Abdul      M               87             75   \n",
            "2      3       13   amogh      M               95             84   \n",
            "3      4       14  Dharan      M               75             91   \n",
            "4      5       15   Viggy      F               68             64   \n",
            "5      6       16   Varun      M               82             80   \n",
            "6      7       17  GIOrno      F               94             91   \n",
            "7      8       18  Hidich      F               81             86   \n",
            "8      9       19    Igor      M               99             99   \n",
            "9     10       20    Jack      M               75             85   \n",
            "\n",
            "   B.E percentage Eligible for placements  \n",
            "0            92.5                     Yes  \n",
            "1            84.5                     Yes  \n",
            "2            87.5                      No  \n",
            "3            72.4                     Yes  \n",
            "4            73.6                      No  \n",
            "5            89.7                     Yes  \n",
            "6            94.5                     Yes  \n",
            "7            82.6                      No  \n",
            "8            99.5                     Yes  \n",
            "9            85.5                     Yes  \n"
          ]
        }
      ],
      "source": [
        "\n",
        "import pandas as pd\n",
        "\n",
        "data = {'Sl.No': [1, 2, 3, 4, 5, 6, 7, 8, 9, 10], \n",
        "        'Roll.no': [11, 12, 13, 14, 15, 16, 17, 18, 19, 20], \n",
        "        'Name': ['Aayush', 'Abdul', 'amogh', 'Dharan', 'Viggy', 'Varun', 'GIOrno', 'Hidich', 'Igor', 'Jack'],\n",
        "        'Gender': ['M', 'M', 'M', 'M', 'F', 'M', 'F', 'F', 'M', 'M'],\n",
        "        'SSLC percentage': [92, 87, 95, 75, 68, 82, 94, 81, 99, 75],\n",
        "        'PU percentage': [86, 75, 84, 91, 64, 80, 91, 86, 99, 85],\n",
        "        'B.E percentage': [92.5, 84.5, 87.5, 72.4, 73.6, 89.7, 94.5, 82.6, 99.5, 85.5],\n",
        "        'Eligible for placements': ['Yes', 'Yes', 'No', 'Yes', 'No', 'Yes', 'Yes', 'No', 'Yes', 'Yes']}\n",
        "df = pd.DataFrame(data)\n",
        "print(df)"
      ]
    },
    {
      "cell_type": "code",
      "source": [],
      "metadata": {
        "id": "ybbBz1aMd0jr"
      },
      "execution_count": null,
      "outputs": []
    }
  ]
}